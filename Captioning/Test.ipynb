{
 "cells": [
  {
   "cell_type": "markdown",
   "metadata": {},
   "source": [
    "### lr_scheduler"
   ]
  },
  {
   "cell_type": "code",
   "execution_count": 13,
   "metadata": {},
   "outputs": [],
   "source": [
    "factor = 2000\n",
    "model_size = 512\n",
    "\n",
    "batch=2\n",
    "epoch=400\n",
    "last_epoch = int(2889/4/batch*epoch)\n",
    "warmup = 10000"
   ]
  },
  {
   "cell_type": "code",
   "execution_count": 14,
   "metadata": {},
   "outputs": [],
   "source": [
    "import matplotlib.pyplot as plt"
   ]
  },
  {
   "cell_type": "code",
   "execution_count": 15,
   "metadata": {},
   "outputs": [
    {
     "name": "stdout",
     "output_type": "stream",
     "text": [
      "144450\n",
      "1 8.838834764831845e-08\n",
      "1001 4.428256217180753e-05\n",
      "2001 8.847673599596677e-05\n",
      "3001 0.000132670909820126\n",
      "4001 0.0001768650836442852\n",
      "5001 0.00022105925746844442\n",
      "6001 0.00026525343129260364\n",
      "7001 0.00030944760511676287\n",
      "8001 0.00035364177894092215\n",
      "9001 0.0003978359527650813\n",
      "10001 0.00044189755069578944\n",
      "11001 0.00042133661245202374\n",
      "12001 0.0004034021497847091\n",
      "13001 0.0003875787329891794\n",
      "14001 0.0003734822640651148\n",
      "15001 0.00036081986438765874\n",
      "16001 0.00034936378692996753\n",
      "17001 0.00033893390363955725\n",
      "18001 0.00032938562424114236\n",
      "19001 0.0003206013617147538\n",
      "20001 0.0003124843761717774\n",
      "21001 0.00030495425151112895\n",
      "22001 0.0002979435165599102\n",
      "23001 0.0002913950834990503\n",
      "24001 0.0002852602797698951\n",
      "25001 0.00027949731751836194\n",
      "26001 0.0002740700900788427\n",
      "27001 0.0002689472159964159\n",
      "28001 0.0002641012725827808\n",
      "29001 0.00025950817613941966\n",
      "30001 0.00025514667679243144\n",
      "31001 0.00025099794370475733\n",
      "32001 0.00024704522215808597\n",
      "33001 0.00024327354823646427\n",
      "34001 0.00023966951001522778\n",
      "35001 0.00023622104655442235\n",
      "36001 0.00023291727782170175\n",
      "37001 0.00022974836007308658\n",
      "38001 0.00022670536230728864\n",
      "39001 0.0002237801602580573\n",
      "40001 0.00022096534505621965\n",
      "41001 0.00021825414422109928\n",
      "42001 0.0002156403530614863\n",
      "43001 0.0002131182749032011\n",
      "44001 0.00021068266883170032\n",
      "45001 0.00020832870385801902\n",
      "46001 0.00020605191859533674\n",
      "47001 0.0002038481856799001\n",
      "48001 0.00020171368029040402\n",
      "49001 0.0001996448522193166\n",
      "50001 0.00019763840103203\n",
      "51001 0.0001956912539183168\n",
      "52001 0.00019380054589789847\n",
      "53001 0.00019196360209002206\n",
      "54001 0.00019017792179742485\n",
      "55001 0.00018844116418926377\n",
      "56001 0.00018675113539657034\n",
      "57001 0.000185105776858433\n",
      "58001 0.00018350315477812275\n",
      "59001 0.00018194145056635302\n",
      "60001 0.00018041895216427977\n",
      "61001 0.00017893404615210834\n",
      "62001 0.00017748521056060697\n",
      "63001 0.00017607100831271166\n",
      "64001 0.000174690081230976\n",
      "65001 0.00017334114455405826\n",
      "66001 0.00017202298191192221\n",
      "67001 0.00017073444071507999\n",
      "68001 0.0001694744279181516\n",
      "69001 0.0001682419061223507\n",
      "70001 0.00016703588998530968\n",
      "71001 0.00016585544291000779\n",
      "72001 0.00016469967398751622\n",
      "73001 0.00016356773517088206\n",
      "74001 0.0001624588186597785\n",
      "75001 0.00016137215447759335\n",
      "76001 0.00016030700822444236\n",
      "77001 0.00015926267899120825\n",
      "78001 0.00015823849742114233\n",
      "79001 0.00015723382390684938\n",
      "80001 0.00015624804691162034\n",
      "81001 0.00015528058140510398\n",
      "82001 0.00015433086740422554\n",
      "83001 0.00015339836861108513\n",
      "84001 0.00015248257114030932\n",
      "85001 0.00015158298232899428\n",
      "86001 0.00015069912962298082\n",
      "87001 0.00014983055953374062\n",
      "88001 0.00014897683666064413\n",
      "89001 0.000148137542773821\n",
      "90001 0.00014731227595322452\n",
      "91001 0.000146500649779875\n",
      "92001 0.00014570229257558466\n",
      "93001 0.00014491684668776686\n",
      "94001 0.0001441439678162037\n",
      "95001 0.00014338332437889337\n",
      "96001 0.00014263459691432417\n",
      "97001 0.00014189747751772866\n",
      "98001 0.00014117166930905723\n",
      "99001 0.00014045688593058392\n",
      "100001 0.00013975285107221372\n",
      "101001 0.00013905929802270325\n",
      "102001 0.00013837596924514052\n",
      "103001 0.00013770261597514808\n",
      "104001 0.00013703899784038673\n",
      "105001 0.0001363848825000376\n",
      "106001 0.0001357400453030344\n",
      "107001 0.00013510426896390495\n",
      "108001 0.00013447734325515865\n",
      "109001 0.00013385906471523166\n",
      "110001 0.00013324923637106836\n",
      "111001 0.00013264766747447945\n",
      "112001 0.000132054173251476\n",
      "113001 0.00013146857466383134\n",
      "114001 0.00013089069818217146\n",
      "115001 0.00013032037556994161\n",
      "116001 0.0001297574436776378\n",
      "117001 0.00012920174424673226\n",
      "118001 0.0001286531237227569\n",
      "119001 0.00012811143307704445\n",
      "120001 0.0001275765276366566\n",
      "121001 0.00012704826692205886\n",
      "122001 0.00012652651449212822\n",
      "123001 0.00012601113779610567\n",
      "124001 0.00012550200803212853\n",
      "125001 0.00012499900001199986\n",
      "126001 0.00012450199203187253\n",
      "127001 0.00012401086574854466\n",
      "128001 0.0001235255060610809\n",
      "129001 0.00012304580099749062\n",
      "130001 0.0001225716416062098\n",
      "131001 0.00012210292185214767\n",
      "132001 0.0001216395385170731\n",
      "133001 0.0001211813911041278\n",
      "134001 0.0001207283817462665\n",
      "135001 0.00012028041511843398\n",
      "136001 0.00011983739835330034\n",
      "137001 0.00011939924096038542\n",
      "138001 0.00011896585474841237\n",
      "139001 0.00011853715375073902\n",
      "140001 0.00011811305415372407\n",
      "141001 0.0001176934742278923\n",
      "142001 0.00011727833426177094\n",
      "143001 0.00011686755649827482\n",
      "144001 0.00011646106507352587\n"
     ]
    }
   ],
   "source": [
    "print(last_epoch)\n",
    "plots=[]\n",
    "for last_epoch in range(1, last_epoch, 1000):\n",
    "    plots.append(0.0005*factor *(model_size ** (-0.5) * min((last_epoch + 1) ** (-0.5), (last_epoch + 1) * warmup ** (-1.5))))\n",
    "    print(last_epoch, 0.0005*factor *(model_size ** (-0.5) * min((last_epoch + 1) ** (-0.5), (last_epoch + 1) * warmup ** (-1.5) )))\n",
    "\n",
    "\n",
    "# plt.plot(plots)"
   ]
  },
  {
   "cell_type": "code",
   "execution_count": 16,
   "metadata": {},
   "outputs": [
    {
     "data": {
      "text/plain": [
       "[<matplotlib.lines.Line2D at 0x7f9a3067af90>]"
      ]
     },
     "execution_count": 16,
     "metadata": {},
     "output_type": "execute_result"
    },
    {
     "data": {
      "image/png": "[encoded data removed]",
      "text/plain": [
       "<Figure size 432x288 with 1 Axes>"
      ]
     },
     "metadata": {
      "needs_background": "light"
     },
     "output_type": "display_data"
    }
   ],
   "source": [
    "plt.plot(plots)\n"
   ]
  },
  {
   "cell_type": "markdown",
   "metadata": {},
   "source": [
    " ### Encoder Learning rate 조절"
   ]
  },
  {
   "cell_type": "code",
   "execution_count": 3,
   "metadata": {},
   "outputs": [
    {
     "data": {
      "text/plain": [
       "1"
      ]
     },
     "execution_count": 3,
     "metadata": {},
     "output_type": "execute_result"
    }
   ],
   "source": [
    "from bisect import bisect_right\n",
    "\n",
    "bisect_right([50, 150, 250, 370], 100)"
   ]
  },
  {
   "cell_type": "markdown",
   "metadata": {},
   "source": [
    "### Image Encoder 학습"
   ]
  },
  {
   "cell_type": "code",
   "execution_count": 4,
   "metadata": {},
   "outputs": [
    {
     "name": "stdout",
     "output_type": "stream",
     "text": [
      "25 10.0\n",
      "30 1.0\n",
      "70 0.1\n"
     ]
    }
   ],
   "source": [
    "lr = 100\n",
    "for epoch in range(1, 100):\n",
    "    if epoch in [25, 30, 70]:\n",
    "        lr = lr * 0.1\n",
    "        print(epoch, lr)\n",
    "\n"
   ]
  },
  {
   "cell_type": "markdown",
   "metadata": {},
   "source": [
    "# BiP CA 구현\n"
   ]
  },
  {
   "cell_type": "code",
   "execution_count": 76,
   "metadata": {},
   "outputs": [],
   "source": [
    "from pydantic import annotated_types\n",
    "import torch\n",
    "import torch.nn as nn\n",
    "import numpy as np\n",
    "\n",
    "\n",
    "# 기존의 모델에 Contrastive Attention을 적용해봅시다.\n",
    "\n",
    "class ContraAtt(nn.Module):\n",
    "\n",
    "\n",
    "    def __init__(self, cfg):\n",
    "        \"\"\" \n",
    "        att_type : dot product(Default) or Bi-Linear\n",
    "        embed_dim : same to input dim(Default)\n",
    "        \"\"\"\n",
    "\n",
    "        super(ContraAtt, self).__init__()\n",
    "        self.cfg = cfg\n",
    "        self.att_type = cfg.CONTRA_ATT_TYPE\n",
    "        self.att_dim = cfg.ATT_FEATS_EMBED_DIM # xtransformer : 512 (1-31, 수정(1024->512))\n",
    "        self.num_heads = cfg.CONTRA_ATT_NUM_HEADS # 6 (Default)\n",
    "\n",
    "        self.aggre_att = AggregatedAttention(self.att_dim, self.num_heads, self.att_type)\n",
    "        self.diff_att = DifferentiateAttention(self.att_dim, self.att_type)\n",
    "        \n",
    "    \n",
    "        self.update_feats = nn.Sequential(\n",
    "            nn.Linear(in_features=2*self.att_dim, out_features=self.att_dim),\n",
    "            nn.ReLU(),\n",
    "            nn.LayerNorm(cfg.ATT_FEATS_EMBED_DIM), # Normalization 추가.\n",
    "            nn.Dropout(cfg.DROPOUT_ATT_EMBED)\n",
    "        )\n",
    "        # self.drop_out = nn.Dropout(cfg.DROPOUT_ATT_EMBED) \n",
    "\n",
    "    def forward(self, input_feats, global_normal_feats):\n",
    "        \"\"\"\n",
    "        input_feats : [196, B, 1024] (혹은 512)\n",
    "        normal_feats : [B, N, 1024]\n",
    "        \"\"\"\n",
    "\n",
    "        src_len = input_feats.shape[0] # 196\n",
    "        global_input_feats = input_feats.mean(axis=0) # [B,1024]\n",
    "\n",
    "\n",
    "        closest_normal_feats = self.aggre_att(global_input_feats, global_normal_feats) # [B, 6, 1024]  \n",
    "        # print('closest_normal_feats.shape', closest_normal_feats.shape) \n",
    "        common_information = self.diff_att(global_input_feats, closest_normal_feats) # [B, 1, 7, 1024] -- 1 : num of DA heads, 6 : # num of AA heads\n",
    "        # print('common_information.shape', common_information.shape)\n",
    "\n",
    "\n",
    "        # basic\n",
    "        # AP\n",
    "        common_information = common_information.squeeze(1).mean(axis=1) # [B, 1024]\n",
    "        # print('AP common information',  common_information.shape)\n",
    "\n",
    "        diff_input_feats = global_input_feats - common_information # [B, 1024]\n",
    "        # print('diff_input_feats', diff_input_feats.shape)\n",
    "\n",
    "\n",
    "        # input feats[196, B, 1024] + diff_input_feats[B, 1024] \n",
    "        # --> [196, B, 1024] + [196, B, 1024] by expand diff_input_feats\n",
    "        # --> [196, B, 2048]  by concat \n",
    "        # --> [196, B, 1024]  by update_feats(Linear(2048, 2012))\n",
    "\n",
    "        diff_input_feats_par = diff_input_feats.unsqueeze(0).expand(src_len, -1, -1) # [196, B, 1024]\n",
    "        # print('diff_input_feats_par', diff_input_feats_par.shape)\n",
    "        # print('input_feats.shape', input_feats.shape)\n",
    "\n",
    "        contra_feats = self.update_feats(torch.cat([input_feats, diff_input_feats_par], dim=2)) # [196, B, 1024]\n",
    "        # print('contra_feats', contra_feats.shape)\n",
    "\n",
    "        return contra_feats\n",
    "\n",
    "\n",
    "class AggregatedAttention(nn.Module): # Aggregated Attention  \n",
    "\n",
    "    def __init__(self, att_dim, num_heads, att_type):\n",
    "        super(AggregatedAttention, self).__init__()\n",
    "        \n",
    "        self.att_dim = att_dim\n",
    "        self.num_heads = num_heads\n",
    "        self.att_type = att_type\n",
    "\n",
    "        if self.att_type =='dot':\n",
    "            # print('asdfsdf')\n",
    "            self.att_blocks = nn.ModuleList([DotAttentionBlock(att_dim) for _ in range(num_heads)])\n",
    "            # self.att_blocks = [DotAttentionBlock(att_dim) for _ in range(num_heads)]\n",
    "        if self.att_type =='BiP':\n",
    "            # print('asdfsdf')\n",
    "            self.att_blocks = nn.ModuleList([BilinearPoolingAttentionBlock(att_dim) for _ in range(num_heads)])\n",
    "\n",
    "\n",
    "        # print(self.att_blocks)\n",
    "\n",
    "    def forward(self, global_input_feats, global_normal_feats):\n",
    "        \"\"\"\n",
    "        input : global_input_feats : [B, 1024], global_normal_feats : [B, N, 1024]\n",
    "        output : closest_normal_feats : [B, n, 1024]\n",
    "        \"\"\"\n",
    "\n",
    "        closest_normal_feats = []\n",
    "\n",
    "        for idx in range(self.num_heads):\n",
    "            \n",
    "            # if self.att_type =='dot':\n",
    "                # [B, query_len, hid_dim] * [B, key_len, hid_dim]\n",
    "            closest_normal_feat = self.att_blocks[idx](global_input_feats.unsqueeze(1), global_normal_feats) # [B, 1, 1024]\n",
    "                # print('closest_normal_feat.shape', closest_normal_feat.shape)    \n",
    "            # print('closest_normal_feat in AggregatedAttention.forward ', closest_normal_feat.shape)\n",
    "            closest_normal_feats.append(closest_normal_feat.unsqueeze(0))\n",
    "\n",
    "        closest_normal_feats = torch.cat(closest_normal_feats) # [n, B, 1, 1024] (n=6)\n",
    "        # print('closest_normal_feats.shape', closest_normal_feats.shape)\n",
    "        closest_normal_feats = closest_normal_feats.permute(1,0,2,3) # [B, n, 1, 1024] \n",
    "        closest_normal_feats = closest_normal_feats.squeeze(2) # [B, n, 1024]\n",
    "\n",
    "        return closest_normal_feats\n",
    "\n",
    "class DifferentiateAttention(nn.Module): # Aggregated Attention  \n",
    "\n",
    "    def __init__(self, att_dim, att_type, num_heads = 1):\n",
    "        super(DifferentiateAttention, self).__init__()\n",
    "        \n",
    "        self.att_dim = att_dim\n",
    "        self.att_type = att_type\n",
    "        self.num_heads = num_heads # Default : 1\n",
    "\n",
    "        if self.att_type =='dot':\n",
    "            self.att_blocks = nn.ModuleList([DotAttentionBlock(att_dim) for _ in range(num_heads)])\n",
    "        if self.att_type =='BiP':\n",
    "            self.att_blocks = nn.ModuleList([BilinearPoolingAttentionBlock(att_dim) for _ in range(num_heads)])\n",
    "\n",
    "    def forward(self, global_input_feats, closest_normal_feats):\n",
    "        \"\"\"\n",
    "        input : global_input_feats ([B, hid_dim]), cloasest_normal_feats ([B, n, hid_dim]\n",
    "        output : diff_att_feats ([B, 1+n, hid_dim]) \"\"\"\n",
    "\n",
    "\n",
    "        common_feats = torch.cat([global_input_feats.unsqueeze(1), closest_normal_feats], axis=1) # [B, n+1, hid_dim]\n",
    "\n",
    "        common_att_feats=[]\n",
    "\n",
    "\n",
    "        for idx in range(self.num_heads): # default : 1 \n",
    "            # if self.att_type =='dot':\n",
    "            common_att_feat = self.att_blocks[idx](common_feats, common_feats) # [B, n+1, hid_dim]\n",
    "                # print('common_att_feat.shape', common_att_feat.shape)\n",
    "            # print('closest_normal_feat in AggregatedAttention.forward ', closest_normal_feat.shape)\n",
    "            common_att_feats.append(common_att_feat.unsqueeze(0))\n",
    "\n",
    "        common_att_feats = torch.cat(common_att_feats) # [1, B, n+1, hid_dim] (n=6)\n",
    "        # print('common_att_feats.shape', common_att_feats.shape)\n",
    "\n",
    "        common_att_feats = common_att_feats.permute(1,0,2,3) # [B, 1, n+1, hid_dim]  (1 : DA의 head 개수, n : AA의 head 개수)\n",
    "        # print('Final common_att_feats.shape', common_att_feats.shape)\n",
    "        return common_att_feats\n",
    "\n",
    "class DotAttentionBlock(nn.Module):\n",
    "   \n",
    "    def __init__(self, hid_dim):\n",
    "        super(DotAttentionBlock, self).__init__()\n",
    "        self.hid_dim = hid_dim\n",
    "        self.scale = torch.sqrt(torch.FloatTensor([self.hid_dim])) #.cuda()\n",
    "        self.proj_input = nn.Linear(in_features=hid_dim, out_features = hid_dim)\n",
    "        self.proj_normal = nn.Linear(in_features=hid_dim, out_features=hid_dim)\n",
    "\n",
    "    def forward(self, global_input_feats, global_normal_feats):\n",
    "        \"\"\"\n",
    "        input : global_input_feats([B, 1 hid_dim]), global_normal_feats([B, N, hid_dim])\n",
    "        output : closeset_normal_feat([B, 1, hid_dim])\n",
    "        \"\"\"\n",
    "\n",
    "        # for key,value in self.proj_input.named_parameters():\n",
    "        #     print(key, value.requires_grad, value.device)\n",
    "\n",
    "        # print('glo device', global_input_feats.device)\n",
    "\n",
    "        Q = self.proj_input(global_input_feats) # [B, 1, hid_dim]\n",
    "        K = self.proj_normal(global_normal_feats) # [B, N, hid_dim]\n",
    "\n",
    "        # Q'\n",
    "\n",
    "\n",
    "        # print('Q', Q.shape)\n",
    "        # print('K', K.shape)\n",
    "        # print('K.permute(0,2,1)', K.permute(0,2,1).shape)\n",
    "        \n",
    "        # # cuda or gpu\n",
    "        # if self.scale.device != global_input_feats.device:\n",
    "        #    self.scale = self.scale.to(global_input_feats.device)\n",
    "\n",
    "        # Attention Value\n",
    "        M = torch.matmul(Q, K.permute(0,2,1))/self.scale # [B, 1, N] \n",
    "        # print('M', M.shape)\n",
    "\n",
    "        # Attention map\n",
    "        # print('M', M)\n",
    "        # print('M', M)\n",
    "        attention = torch.softmax(M, dim=-1) # [B, 1, N}\n",
    "        # print('Attention', attention)\n",
    "        # print('attention', attention.shape)\n",
    "        \n",
    "\n",
    "        closest_normal_feats = torch.matmul(attention, global_normal_feats) # [B, 1, hid_dim] (=[B, 1, N] * [B, N, hid_dim])\n",
    "        \n",
    "        \n",
    "        return closest_normal_feats\n",
    "        \n",
    "\n",
    "\n",
    "class BilinearPoolingAttentionBlock(nn.Module):\n",
    "    \n",
    "    def __init__(self, hid_dim):\n",
    "\n",
    "        super(BilinearPoolingAttentionBlock, self).__init__()\n",
    "\n",
    "        self.hid_dim = hid_dim\n",
    "        squeeze_dim = int(hid_dim/2)\n",
    "        self.squeeze_dim = squeeze_dim\n",
    "\n",
    "        self.scale = torch.sqrt(torch.FloatTensor([self.hid_dim])) #.cuda()\n",
    "\n",
    "        self.proj_input_key = nn.Linear(in_features=hid_dim, out_features = hid_dim)\n",
    "        self.proj_normal_key = nn.Linear(in_features=hid_dim, out_features= hid_dim)\n",
    "        self.proj_input_value = nn.Linear(in_features=hid_dim, out_features = hid_dim)\n",
    "        self.proj_normal_value = nn.Linear(in_features=hid_dim, out_features= hid_dim)\n",
    "        \n",
    "        self.embed1 = nn.Linear(in_features =  hid_dim, out_features = squeeze_dim) # : self.squeeze\n",
    "        self.embed2 = nn.Linear(in_features = squeeze_dim, out_features = 1)\n",
    "        self.excitation = nn.Linear(in_features = squeeze_dim, out_features = hid_dim)\n",
    "\n",
    "        self.relu = nn.ReLU()\n",
    "        self.sigmoid = nn.Sigmoid()\n",
    "        \n",
    "    def forward(self, global_input_feats, global_normal_feats):\n",
    "        \"\"\"\n",
    "        input : global_input_feats([B, 1 hid_dim]), global_normal_feats([B, N, hid_dim])\n",
    "        output : closeset_normal_feat([B, 1, hid_dim])\n",
    "        \"\"\"\n",
    "        global beta_s, B_v, beta_c, att_v, v_hat\n",
    "        B, N, hid_dim = global_normal_feats.shape\n",
    "\n",
    "        # Query - Key Bilinear Pooling\n",
    "        Q_k = self.proj_input_key(global_input_feats) # [B, 1, hid_dim]\n",
    "        K = self.proj_normal_key(global_normal_feats) # [B, N, hid_dim]\n",
    "        \n",
    "        ## B_k = [B, N, hid_dim] * [B, N, hid_dim]\n",
    "        B_k = self.sigmoid(Q_k.expand(-1, N, -1)) * self.sigmoid(K) # expand는 생략해도 무방하나, 직관성을 위해 표기 \n",
    "        \n",
    "        # print('Q_k', Q_k.shape) # [B, 1, hid_dim]\n",
    "        # print('K', K.shape) # [B, N, hid_dim]\n",
    "        # print('B_k', B_k.shape) # [B, N, hid_dim]\n",
    "\n",
    "        # embed 1 (squeeze)\n",
    "        B_k_prime = self.relu(self.embed1(B_k)) # [B, N, hid_dim/2]\n",
    "        # print('B_k_prime', B_k_prime.shape) \n",
    "        \n",
    "        # spatial attention (beta_s)\n",
    "        b_s = self.embed2(B_k_prime) # [B, N, 1]\n",
    "        # print('b_s', b_s.shape)\n",
    "\n",
    "        beta_s = b_s.softmax(dim=1) # [B, N, 1]\n",
    "        # print('beta_s', beta_s.shape)\n",
    "\n",
    "        # channel-wise attention (excitation) (beta_c)\n",
    "\n",
    "        B_bar = B_k_prime.mean(dim=1) # [B, hid_dim/2]\n",
    "        # print('B_bar', B_bar.shape)\n",
    "\n",
    "        b_c = self.excitation(B_bar) # [B, hid_dim]\n",
    "        beta_c = self.sigmoid(b_c) # [B, hid_dim]\n",
    "        # print('beta_c', beta_c.shape)\n",
    "\n",
    "        \n",
    "\n",
    "        # Query - Value Bilinear Pooling\n",
    "\n",
    "        Q_v = self.proj_input_value(global_input_feats) # [B, 1, hid_dim] \n",
    "        V = self.proj_normal_value(global_normal_feats) # [B, N, hid_dim]\n",
    "\n",
    "        B_v = self.relu(Q_v.expand((-1, N, -1))) * self.relu(V)   # expand : [B, 1, hid_dim] -> [B, N, hid_dim]\n",
    "        \n",
    "        # print('Q_v', Q_v.shape) # [B, 1, hid_dim]\n",
    "        # print('V', V.shape) # [B, N, hid_dim]\n",
    "        # print('B_v', B_v.shape) # [B, N, hid_dim]\n",
    "        \n",
    "        \n",
    "        # spatial-attended value (논문 내 식 (6))\n",
    "        att_v=(B_v*beta_s).sum(dim=1) # [B, hid_dim]\n",
    "        # print('att_v', att_v.shape) # [B, hid_dim]\n",
    "        \n",
    "        ## 아래 식으로 해도 상관은 없다.\n",
    "        ## Att_v = torch.matmul(beta_s.permute(0,2,1), B_v).squeeze(1)\n",
    "\n",
    "        v_hat=beta_c * att_v # [B, hid_dim]\n",
    "        # print('v_hat', v_hat.shape) # [B, hid_dim]\n",
    "        \n",
    "        v_hat = v_hat.unsqueeze(1) # [B, 1, hid_dim]\n",
    "        \n",
    "        # print('v_hat', v_hat.shape) # [B, hid_dim]\n",
    "        \n",
    "           \n",
    "        return v_hat\n"
   ]
  },
  {
   "cell_type": "code",
   "execution_count": 69,
   "metadata": {},
   "outputs": [],
   "source": [
    "import easydict"
   ]
  },
  {
   "cell_type": "code",
   "execution_count": 92,
   "metadata": {},
   "outputs": [],
   "source": [
    "# input\n",
    "input_feats = torch.rand((49, 2, 16)).cpu()\n",
    "normal_feats = torch.rand((2, 5, 16)).cpu()"
   ]
  },
  {
   "cell_type": "code",
   "execution_count": 93,
   "metadata": {},
   "outputs": [],
   "source": [
    "# config\n",
    "cfg=  easydict.EasyDict\n",
    "cfg.CONTRA_ATT_TYPE ='dot'\n",
    "cfg.ATT_FEATS_EMBED_DIM=16\n",
    "cfg.CONTRA_ATT_NUM_HEADS = 3\n",
    "cfg.DROPOUT_ATT_EMBED = 0.3\n",
    "\n",
    "\n",
    "\n",
    "# model\n",
    "contra_att = ContraAtt(cfg)\n",
    "contra_att.eval()\n",
    "\n",
    "pass"
   ]
  },
  {
   "cell_type": "code",
   "execution_count": 101,
   "metadata": {},
   "outputs": [],
   "source": [
    "contra_feats_dot = contra_att(input_feats, normal_feats)"
   ]
  },
  {
   "cell_type": "code",
   "execution_count": 103,
   "metadata": {},
   "outputs": [
    {
     "name": "stdout",
     "output_type": "stream",
     "text": [
      "torch.Size([49, 2, 16])\n"
     ]
    }
   ],
   "source": [
    "print(contra_feats_dot.shape)"
   ]
  },
  {
   "cell_type": "code",
   "execution_count": 104,
   "metadata": {},
   "outputs": [
    {
     "name": "stdout",
     "output_type": "stream",
     "text": [
      "tensor([[-0.7876,  1.7939,  1.2440, -0.7876, -0.7876],\n",
      "        [ 0.0994, -0.4149,  2.0619, -0.8139,  0.7776],\n",
      "        [-0.7227,  0.8419,  1.9502, -0.7595, -0.6045],\n",
      "        [-0.8030,  0.9398,  1.4645, -0.8030, -0.2329],\n",
      "        [-0.7981,  0.9300,  0.0852, -0.7981, -0.7981]],\n",
      "       grad_fn=<SliceBackward0>)\n"
     ]
    }
   ],
   "source": [
    "print(contra_feats_dot[:5, 0, :5])"
   ]
  },
  {
   "cell_type": "code",
   "execution_count": 105,
   "metadata": {},
   "outputs": [],
   "source": [
    "# config\n",
    "cfg=  easydict.EasyDict\n",
    "cfg.CONTRA_ATT_TYPE ='BiP'\n",
    "cfg.ATT_FEATS_EMBED_DIM=16\n",
    "cfg.CONTRA_ATT_NUM_HEADS = 3\n",
    "cfg.DROPOUT_ATT_EMBED = 0.3\n",
    "\n",
    "\n",
    "# model\n",
    "contra_att = ContraAtt(cfg)\n",
    "contra_att.eval()\n",
    "\n",
    "pass"
   ]
  },
  {
   "cell_type": "code",
   "execution_count": 106,
   "metadata": {},
   "outputs": [],
   "source": [
    "contra_feats_bip = contra_att(input_feats, normal_feats)"
   ]
  },
  {
   "cell_type": "code",
   "execution_count": 107,
   "metadata": {},
   "outputs": [
    {
     "name": "stdout",
     "output_type": "stream",
     "text": [
      "torch.Size([49, 2, 16])\n"
     ]
    }
   ],
   "source": [
    "print(contra_feats_bip.shape)"
   ]
  },
  {
   "cell_type": "code",
   "execution_count": 108,
   "metadata": {},
   "outputs": [
    {
     "name": "stdout",
     "output_type": "stream",
     "text": [
      "tensor([[-0.7759, -0.7759, -0.4321,  0.3739,  1.4593],\n",
      "        [-0.8710, -0.8710, -0.0942,  0.6868,  1.2801],\n",
      "        [-0.8355, -0.8355, -0.8355,  0.5541,  1.5611],\n",
      "        [-0.7468, -0.7468, -0.1552,  0.0255,  1.2583],\n",
      "        [-0.9392, -0.9392, -0.8304,  0.5949,  1.2941]],\n",
      "       grad_fn=<SliceBackward0>)\n"
     ]
    }
   ],
   "source": [
    "print(contra_feats_bip[:5, 0, :5])"
   ]
  },
  {
   "cell_type": "code",
   "execution_count": 109,
   "metadata": {},
   "outputs": [
    {
     "name": "stdout",
     "output_type": "stream",
     "text": [
      "tensor([[-0.7876,  1.7939,  1.2440, -0.7876, -0.7876],\n",
      "        [ 0.0994, -0.4149,  2.0619, -0.8139,  0.7776],\n",
      "        [-0.7227,  0.8419,  1.9502, -0.7595, -0.6045],\n",
      "        [-0.8030,  0.9398,  1.4645, -0.8030, -0.2329],\n",
      "        [-0.7981,  0.9300,  0.0852, -0.7981, -0.7981]],\n",
      "       grad_fn=<SliceBackward0>)\n"
     ]
    }
   ],
   "source": [
    "print(contra_feats_dot[:5, 0, :5])"
   ]
  },
  {
   "cell_type": "code",
   "execution_count": 111,
   "metadata": {},
   "outputs": [],
   "source": [
    "import matplotlib.pyplot as plt"
   ]
  },
  {
   "cell_type": "code",
   "execution_count": 115,
   "metadata": {},
   "outputs": [
    {
     "data": {
      "text/plain": [
       "<matplotlib.image.AxesImage at 0x7fab18be8350>"
      ]
     },
     "execution_count": 115,
     "metadata": {},
     "output_type": "execute_result"
    },
    {
     "data": {
      "image/png": "[encoded data removed]",
      "text/plain": [
       "<Figure size 432x288 with 1 Axes>"
      ]
     },
     "metadata": {
      "needs_background": "light"
     },
     "output_type": "display_data"
    }
   ],
   "source": [
    "plt.imshow(contra_feats_dot[:, 0, :].detach().numpy())"
   ]
  },
  {
   "cell_type": "code",
   "execution_count": 116,
   "metadata": {},
   "outputs": [
    {
     "data": {
      "text/plain": [
       "<matplotlib.image.AxesImage at 0x7fab18b59110>"
      ]
     },
     "execution_count": 116,
     "metadata": {},
     "output_type": "execute_result"
    },
    {
     "data": {
      "image/png": "[encoded data removed]",
      "text/plain": [
       "<Figure size 432x288 with 1 Axes>"
      ]
     },
     "metadata": {
      "needs_background": "light"
     },
     "output_type": "display_data"
    }
   ],
   "source": [
    "plt.imshow(contra_feats_bip[:, 0, :].detach().numpy())"
   ]
  },
  {
   "cell_type": "markdown",
   "metadata": {},
   "source": [
    "# Gradient 확인"
   ]
  },
  {
   "cell_type": "code",
   "execution_count": 13,
   "metadata": {},
   "outputs": [
    {
     "data": {
      "text/plain": [
       "[<matplotlib.lines.Line2D at 0x7efbfbbbe810>]"
      ]
     },
     "execution_count": 13,
     "metadata": {},
     "output_type": "execute_result"
    },
    {
     "data": {
      "image/png": "[encoded data removed]",
      "text/plain": [
       "<Figure size 432x288 with 1 Axes>"
      ]
     },
     "metadata": {
      "needs_background": "light"
     },
     "output_type": "display_data"
    }
   ],
   "source": [
    "import pandas as pd\n",
    "import matplotlib.pyplot as plt\n",
    "grad = pd.read_pickle('grad.pickle')\n",
    "\n",
    "plt.plot([abs(grad) for grad in grad['extractor']])\n",
    "plt.plot([abs(grad) for grad in grad['transformer']])"
   ]
  },
  {
   "cell_type": "code",
   "execution_count": 16,
   "metadata": {},
   "outputs": [
    {
     "name": "stdout",
     "output_type": "stream",
     "text": [
      "5.145878604389933e-06\n",
      "1.3757963422039753e-05\n"
     ]
    }
   ],
   "source": [
    "print(np.mean([abs(grad) for grad in grad['extractor']]))\n",
    "print(np.mean([abs(grad) for grad in grad['transformer']]))"
   ]
  },
  {
   "cell_type": "markdown",
   "metadata": {},
   "source": [
    "# Validation data 확인"
   ]
  },
  {
   "cell_type": "markdown",
   "metadata": {},
   "source": []
  },
  {
   "cell_type": "code",
   "execution_count": null,
   "metadata": {},
   "outputs": [],
   "source": [
    "data_root = './mimic/sent/mimic_train_input.pkl'"
   ]
  },
  {
   "cell_type": "code",
   "execution_count": null,
   "metadata": {},
   "outputs": [],
   "source": [
    "data_root = './mimic/sent/mimic_train_input.pkl'"
   ]
  },
  {
   "cell_type": "code",
   "execution_count": null,
   "metadata": {},
   "outputs": [],
   "source": [
    "import pandas as pd\n",
    "import pickle\n",
    "index=865\n"
   ]
  },
  {
   "cell_type": "code",
   "execution_count": null,
   "metadata": {},
   "outputs": [],
   "source": [
    "index+=1\n",
    "pd.read_pickle(data_root)[f'{index}']\n"
   ]
  },
  {
   "cell_type": "markdown",
   "metadata": {},
   "source": [
    "sss"
   ]
  }
 ],
 "metadata": {
  "interpreter": {
   "hash": "74718085999496aceb448166212b885722618ffb65d95b4ac224147130c54247"
  },
  "kernelspec": {
   "display_name": "Python 3.7.11 64-bit ('jsp_med': conda)",
   "language": "python",
   "name": "python3"
  },
  "language_info": {
   "codemirror_mode": {
    "name": "ipython",
    "version": 3
   },
   "file_extension": ".py",
   "mimetype": "text/x-python",
   "name": "python",
   "nbconvert_exporter": "python",
   "pygments_lexer": "ipython3",
   "version": "3.7.11"
  },
  "orig_nbformat": 4
 },
 "nbformat": 4,
 "nbformat_minor": 2
}
