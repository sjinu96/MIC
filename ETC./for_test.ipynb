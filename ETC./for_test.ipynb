{
 "cells": [
  {
   "cell_type": "code",
   "execution_count": null,
   "metadata": {},
   "outputs": [],
   "source": []
  }
 ],
 "metadata": {
  "interpreter": {
   "hash": "88232a619b8fae19af57f0a8fee76537912e2779b76ff4f615bebca7a39730b7"
  },
  "kernelspec": {
   "display_name": "Python 3.7.11 64-bit ('jsp_spade': conda)",
   "language": "python",
   "name": "python3"
  },
  "language_info": {
   "name": "python",
   "version": "3.7.11"
  },
  "orig_nbformat": 4
 },
 "nbformat": 4,
 "nbformat_minor": 2
}
